{
 "cells": [
  {
   "cell_type": "markdown",
   "id": "cb376385-c644-4725-bd4d-b2fdad0193e2",
   "metadata": {},
   "source": [
    "# Chi-Squre Test"
   ]
  },
  {
   "cell_type": "code",
   "execution_count": 2,
   "id": "8029b1a8-bcf5-4e90-be26-4df610ba7640",
   "metadata": {},
   "outputs": [],
   "source": [
    "import numpy as np\n",
    "from scipy.stats import chi2_contingency"
   ]
  },
  {
   "cell_type": "code",
   "execution_count": 8,
   "id": "4941d905-be82-41eb-a80c-3cbbbc194ac7",
   "metadata": {},
   "outputs": [],
   "source": [
    "# Contingency table data\n",
    "observed_data = np.array([\n",
    "    [50, 70],\n",
    "    [80, 100],\n",
    "    [60, 90],\n",
    "    [30, 50],\n",
    "    [20, 50]])"
   ]
  },
  {
   "cell_type": "code",
   "execution_count": 21,
   "id": "b89a197f-11da-479f-b15e-7e437440e351",
   "metadata": {},
   "outputs": [
    {
     "name": "stdout",
     "output_type": "stream",
     "text": [
      "Chi-Square Statistics: 5.638227513227513\n",
      "Degrees of Freedom: 4\n",
      "p-value: 0.22784371130697179\n"
     ]
    }
   ],
   "source": [
    "# Performing chi-square test for independence\n",
    "chi2, p, dof, expected = chi2_contingency(observed_data)\n",
    "\n",
    "#printng results\n",
    "print(f\"Chi-Square Statistics: {chi2}\\nDegrees of Freedom: {dof}\\np-value: {p}\")"
   ]
  },
  {
   "cell_type": "code",
   "execution_count": 25,
   "id": "0f2dcc7c-d8eb-413f-86aa-e9057e2f6612",
   "metadata": {},
   "outputs": [
    {
     "name": "stdout",
     "output_type": "stream",
     "text": [
      "Critial Valuee: 0.0\n"
     ]
    }
   ],
   "source": [
    "# Determine critical value\n",
    "alpha = 0.05\n",
    "critical_value = chi2_contingency(np.array([[1, 1], [1, 1]]))[0]\n",
    "print(f\"Critial Valuee: {critical_value}\")"
   ]
  },
  {
   "cell_type": "code",
   "execution_count": 27,
   "id": "606be484-9333-4be0-a62a-d478102d2c9a",
   "metadata": {},
   "outputs": [
    {
     "name": "stdout",
     "output_type": "stream",
     "text": [
      "Reject the null hypothesis: There is a significant association between device type and customer satisfaction.\n"
     ]
    }
   ],
   "source": [
    "# Making Decision\n",
    "\n",
    "if chi2 > critical_value:\n",
    "    print(\"Reject the null hypothesis: There is a significant association between device type and customer satisfaction.\")\n",
    "else:\n",
    "    print(\"Fail to reject the null hypothesis: There is no significant association between device type and customer satisfaction.\")"
   ]
  }
 ],
 "metadata": {
  "kernelspec": {
   "display_name": "Python 3 (ipykernel)",
   "language": "python",
   "name": "python3"
  },
  "language_info": {
   "codemirror_mode": {
    "name": "ipython",
    "version": 3
   },
   "file_extension": ".py",
   "mimetype": "text/x-python",
   "name": "python",
   "nbconvert_exporter": "python",
   "pygments_lexer": "ipython3",
   "version": "3.12.7"
  }
 },
 "nbformat": 4,
 "nbformat_minor": 5
}
