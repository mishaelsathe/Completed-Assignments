{
 "cells": [
  {
   "cell_type": "code",
   "execution_count": 1,
   "id": "4a089c57",
   "metadata": {},
   "outputs": [
    {
     "name": "stdout",
     "output_type": "stream",
     "text": [
      "Check if prime: 7\n",
      "It's a prime number.\n"
     ]
    }
   ],
   "source": [
    "# 1 Exercise: Prime Numbers\n",
    "\n",
    "def prime_num_checker(number):\n",
    "    is_prime = True\n",
    "    for i in range(2, number):\n",
    "        if number % 2 == 0:\n",
    "            is_prime = False\n",
    "    if is_prime:\n",
    "        print(\"It's a prime number.\")\n",
    "    else:\n",
    "        print(\"It's not a prime number.\")\n",
    "\n",
    "n = int(input(\"Check if prime: \"))\n",
    "prime_num_checker(number=n)"
   ]
  },
  {
   "cell_type": "code",
   "execution_count": 3,
   "id": "aa25577d",
   "metadata": {},
   "outputs": [
    {
     "name": "stdout",
     "output_type": "stream",
     "text": [
      "You will get only 2 attempts!!\n",
      "Guess the number: \n",
      "50\n",
      "Guess lower.\n",
      "You have 1 attempts left.\n",
      "Guess the number: \n",
      "47\n",
      "Congrats, you guessed in 2 attempts.\n",
      "You have exhausted your limits.\n"
     ]
    }
   ],
   "source": [
    "# 2 Exercise: Product of Random Numbers\n",
    "\n",
    "number = 47\n",
    "attempts = 2\n",
    "\n",
    "print(\"You will get only 2 attempts!!\")\n",
    "while attempts > 0:\n",
    "    attempts -= 1\n",
    "    guess_number = int(input(\"Guess the number: \\n\"))\n",
    "       \n",
    "\n",
    "    if guess_number > number:\n",
    "        print(\"Guess lower.\")\n",
    "    elif guess_number < number:\n",
    "        print(\"Guess higher.\")\n",
    "    elif guess_number == number:\n",
    "        print(f\"Congrats, you guessed in {2 - attempts} attempts.\")\n",
    "    \n",
    "    if attempts > 0:\n",
    "        print(f\"You have {attempts} attempts left.\")\n",
    "    else:\n",
    "        print(\"You have exhausted your limits.\")\n",
    "        break"
   ]
  },
  {
   "cell_type": "code",
   "execution_count": 7,
   "id": "88ce7791",
   "metadata": {},
   "outputs": [
    {
     "data": {
      "text/plain": [
       "2\n",
       "4\n",
       "6\n",
       "8\n",
       "10\n",
       "12\n",
       "14\n",
       "16\n",
       "18\n",
       "20\n",
       "22\n",
       "24\n",
       "26\n",
       "28\n",
       "30\n",
       "32\n",
       "34\n",
       "36\n",
       "38\n",
       "40\n",
       "42\n",
       "44\n",
       "46\n",
       "48\n",
       "50\n",
       "52\n",
       "54\n",
       "56\n",
       "58\n",
       "60\n",
       "62\n",
       "64\n",
       "66\n",
       "68\n",
       "70\n",
       "72\n",
       "74\n",
       "76\n",
       "78\n",
       "80\n",
       "82\n",
       "84\n",
       "86\n",
       "88\n",
       "90\n",
       "92\n",
       "94\n",
       "96\n",
       "98\n",
       "100\n"
      ]
     },
     "metadata": {},
     "output_type": "display_data"
    }
   ],
   "source": [
    "count = 0\n",
    "for i in range(1, 100 + 1):\n",
    "    if i % 2 == 0:\n",
    "        count += 1\n",
    "        print(f\"{i}\")"
   ]
  },
  {
   "cell_type": "code",
   "execution_count": 10,
   "id": "a5de227a",
   "metadata": {},
   "outputs": [
    {
     "name": "stdout",
     "output_type": "stream",
     "text": [
      "This: 2\n",
      "is: 3\n",
      "a: 3\n",
      "sample: 1\n",
      "text: 2\n"
     ]
    }
   ],
   "source": [
    "# Exercise 4: Word counter\n",
    "\n",
    "input_text = \"This is a sample text. This text will be used to demonstrate the word counter.\"\n",
    "words_to_count = [\"This\", \"is\", \"a\", \"sample\", 'text']\n",
    "\n",
    "for i in words_to_count:\n",
    "    count = input_text.count(i)\n",
    "    print(f\"{i}: {count}\")"
   ]
  },
  {
   "cell_type": "code",
   "execution_count": 18,
   "id": "a1f27d5e",
   "metadata": {},
   "outputs": [
    {
     "name": "stdout",
     "output_type": "stream",
     "text": [
      "True\n",
      "True\n",
      "False\n"
     ]
    }
   ],
   "source": [
    "# Exercise 5: Check for Palindrome\n",
    "\n",
    "def is_palindrome(s):\n",
    "    reversed = s[::-1]\n",
    "\n",
    "    if s == reversed:\n",
    "        return True\n",
    "    else:\n",
    "        return False\n",
    "    \n",
    "print(is_palindrome(\"madam\"))\n",
    "print(is_palindrome(\"121\"))\n",
    "print(is_palindrome(\"hello\"))"
   ]
  },
  {
   "cell_type": "code",
   "execution_count": null,
   "id": "0b1917b1",
   "metadata": {},
   "outputs": [],
   "source": []
  }
 ],
 "metadata": {
  "kernelspec": {
   "display_name": "Python 3 (ipykernel)",
   "language": "python",
   "name": "python3"
  },
  "language_info": {
   "codemirror_mode": {
    "name": "ipython",
    "version": 3
   },
   "file_extension": ".py",
   "mimetype": "text/x-python",
   "name": "python",
   "nbconvert_exporter": "python",
   "pygments_lexer": "ipython3",
   "version": "3.11.5"
  }
 },
 "nbformat": 4,
 "nbformat_minor": 5
}
