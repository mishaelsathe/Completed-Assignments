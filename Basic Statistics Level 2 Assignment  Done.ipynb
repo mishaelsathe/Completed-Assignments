{
 "cells": [
  {
   "cell_type": "markdown",
   "id": "a025d396-2163-4620-9a52-ffdf409b7d87",
   "metadata": {},
   "source": [
    "# Estimation And Confidence Intervals"
   ]
  },
  {
   "cell_type": "code",
   "execution_count": 1,
   "id": "1d8ef7e2-5c5c-4a69-9850-0012d4bcfadf",
   "metadata": {},
   "outputs": [],
   "source": [
    "import numpy as np\n",
    "from scipy.stats import t"
   ]
  },
  {
   "cell_type": "code",
   "execution_count": 6,
   "id": "5d32d1be-9f09-4c46-8a56-2651432c88a9",
   "metadata": {},
   "outputs": [
    {
     "name": "stdout",
     "output_type": "stream",
     "text": [
      "mean is: 1.2386666666666666\n",
      "std is: 0.19316412956959936\n",
      "size is: 15\n"
     ]
    }
   ],
   "source": [
    "# Sample Data\n",
    "data = np.array([1.13, 1.55, 1.43, 0.92, 1.25, 1.36, 1.32, 0.85, 1.07, 1.48, 1.20, 1.33, 1.18, 1.22, 1.29])\n",
    "sample_mean = np.mean(data)\n",
    "sample_std = np.std(data, ddof=1)\n",
    "sample_size = len(data)\n",
    "\n",
    "lables = [\"mean\", \"std\", \"size\"]\n",
    "mean_std_size = sample_mean, sample_std, sample_size\n",
    "\n",
    "for lable, value in zip(lables, mean_std_size):\n",
    "    print(f\"{lable} is: {value}\")\n",
    "\n",
    "# print(f\"Mean is {sample_mean}.\\nStd is {sample_std}.\\nSize is {sample_size}.\")"
   ]
  },
  {
   "cell_type": "code",
   "execution_count": 10,
   "id": "8e9afd8f-5635-4e37-90e5-b1b4226e07d7",
   "metadata": {},
   "outputs": [
    {
     "data": {
      "text/plain": [
       "(1.0901973384384906, 1.3871359948948425)"
      ]
     },
     "execution_count": 10,
     "metadata": {},
     "output_type": "execute_result"
    }
   ],
   "source": [
    "# a. Confidence interval using sample standard deviation\n",
    "\n",
    "confidence_level = 0.99\n",
    "alpha = 1 - confidence_level\n",
    "t_value = t.ppf(1 - alpha/2, df=sample_size - 1) # using t-distribution for small sample size\n",
    "margin_of_error = t_value * sample_std / np.sqrt(sample_size)\n",
    "confidence_interval_a = (sample_mean - margin_of_error, sample_mean + margin_of_error)\n",
    "# confidence_interval_a = \n",
    "\n",
    "confidence_interval_a"
   ]
  },
  {
   "cell_type": "code",
   "execution_count": 13,
   "id": "064880bd",
   "metadata": {},
   "outputs": [
    {
     "data": {
      "text/plain": [
       "(1.0849431688733762, 1.392390164459957)"
      ]
     },
     "execution_count": 13,
     "metadata": {},
     "output_type": "execute_result"
    }
   ],
   "source": [
    "# b. Confidence interval using known population standard deviation\n",
    "\n",
    "population_std = 0.2\n",
    "z_value = t.ppf(1 - alpha/2, df = sample_size - 1) # using t-distribution for small sample size\n",
    "margin_of_error_b = z_value * population_std / np.sqrt(sample_size)\n",
    "confidence_interval_b = (sample_mean - margin_of_error_b, sample_mean + margin_of_error_b)\n",
    "\n",
    "confidence_interval_b"
   ]
  },
  {
   "cell_type": "code",
   "execution_count": 15,
   "id": "991593ab-2842-4aab-b227-9818e9d34716",
   "metadata": {},
   "outputs": [
    {
     "name": "stdout",
     "output_type": "stream",
     "text": [
      "A. Confidence Interval using sample standard deviation: (1.0901973384384906, 1.3871359948948425).\n",
      "B. Confidence Interval using known population standard deviation: (1.0849431688733762, 1.392390164459957).\n"
     ]
    }
   ],
   "source": [
    "print(f\"A. Confidence Interval using sample standard deviation: {confidence_interval_a}.\")\n",
    "print(f\"B. Confidence Interval using known population standard deviation: {confidence_interval_b}.\")"
   ]
  },
  {
   "cell_type": "code",
   "execution_count": null,
   "id": "0a8d64f1-e18d-402a-bb33-1a68d39a56a9",
   "metadata": {},
   "outputs": [],
   "source": []
  }
 ],
 "metadata": {
  "kernelspec": {
   "display_name": "base",
   "language": "python",
   "name": "python3"
  },
  "language_info": {
   "codemirror_mode": {
    "name": "ipython",
    "version": 3
   },
   "file_extension": ".py",
   "mimetype": "text/x-python",
   "name": "python",
   "nbconvert_exporter": "python",
   "pygments_lexer": "ipython3",
   "version": "3.12.7"
  }
 },
 "nbformat": 4,
 "nbformat_minor": 5
}
