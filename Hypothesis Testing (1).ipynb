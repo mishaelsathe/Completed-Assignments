{
 "cells": [
  {
   "cell_type": "markdown",
   "id": "cb376385-c644-4725-bd4d-b2fdad0193e2",
   "metadata": {},
   "source": [
    "# Hypothesis Testing"
   ]
  },
  {
   "cell_type": "code",
   "execution_count": 8,
   "id": "8029b1a8-bcf5-4e90-be26-4df610ba7640",
   "metadata": {},
   "outputs": [],
   "source": [
    "import numpy as np\n",
    "from scipy.stats import t"
   ]
  },
  {
   "cell_type": "code",
   "execution_count": 10,
   "id": "4941d905-be82-41eb-a80c-3cbbbc194ac7",
   "metadata": {},
   "outputs": [],
   "source": [
    "# Given Data\n",
    "sample_mean = 3050 # Sample mean weekly cost (Rs.)\n",
    "theoretical_mean = 1000 + 5 * 600 # Theoretical mean weekly cost according to the cost model (W = $1,000 + $5 for X = 600 units)\n",
    "standard_deviation = 5 * 25 # Standard deviation of the population\n",
    "sample_size = 25 # Sample size\n",
    "alpha = 0.05 # Significance Level"
   ]
  },
  {
   "cell_type": "code",
   "execution_count": 14,
   "id": "b89a197f-11da-479f-b15e-7e437440e351",
   "metadata": {},
   "outputs": [
    {
     "name": "stdout",
     "output_type": "stream",
     "text": [
      "Standard Error: 25.0\n",
      "t Statistics: -38.0\n"
     ]
    }
   ],
   "source": [
    "# Calculating the test statistics (t)\n",
    "standard_error = standard_deviation / np.sqrt(sample_size)\n",
    "t_statistics = (sample_mean - theoretical_mean) / standard_error\n",
    "\n",
    "print(f\"Standard Error: {standard_error}\")\n",
    "print(f\"t Statistics: {t_statistics}\")"
   ]
  },
  {
   "cell_type": "code",
   "execution_count": 16,
   "id": "0f2dcc7c-d8eb-413f-86aa-e9057e2f6612",
   "metadata": {},
   "outputs": [
    {
     "ename": "NameError",
     "evalue": "name 'degrees_of_freedom' is not defined",
     "output_type": "error",
     "traceback": [
      "\u001b[1;31m---------------------------------------------------------------------------\u001b[0m",
      "\u001b[1;31mNameError\u001b[0m                                 Traceback (most recent call last)",
      "Cell \u001b[1;32mIn[16], line 3\u001b[0m\n\u001b[0;32m      1\u001b[0m \u001b[38;5;66;03m# Determine the critical value from the t-distribution\u001b[39;00m\n\u001b[0;32m      2\u001b[0m degrees_of_freedon \u001b[38;5;241m=\u001b[39m sample_size \u001b[38;5;241m-\u001b[39m \u001b[38;5;241m1\u001b[39m\n\u001b[1;32m----> 3\u001b[0m critical_value \u001b[38;5;241m=\u001b[39m t\u001b[38;5;241m.\u001b[39mppf(\u001b[38;5;241m1\u001b[39m\u001b[38;5;241m-\u001b[39malpha, degrees_of_freedom)\n\u001b[0;32m      5\u001b[0m critical_value\n",
      "\u001b[1;31mNameError\u001b[0m: name 'degrees_of_freedom' is not defined"
     ]
    }
   ],
   "source": [
    "# Determine the critical value from the t-distribution\n",
    "degrees_of_freedon = sample_size - 1\n",
    "critical_value = t.ppf(1-alpha, degrees_of_freedom)\n",
    "\n",
    "critical_value"
   ]
  },
  {
   "cell_type": "code",
   "execution_count": null,
   "id": "606be484-9333-4be0-a62a-d478102d2c9a",
   "metadata": {},
   "outputs": [],
   "source": []
  }
 ],
 "metadata": {
  "kernelspec": {
   "display_name": "Python 3 (ipykernel)",
   "language": "python",
   "name": "python3"
  },
  "language_info": {
   "codemirror_mode": {
    "name": "ipython",
    "version": 3
   },
   "file_extension": ".py",
   "mimetype": "text/x-python",
   "name": "python",
   "nbconvert_exporter": "python",
   "pygments_lexer": "ipython3",
   "version": "3.12.7"
  }
 },
 "nbformat": 4,
 "nbformat_minor": 5
}
